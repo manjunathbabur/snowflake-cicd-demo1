{
 "cells": [
  {
   "cell_type": "code",
   "execution_count": null,
   "metadata": {
    "vscode": {
     "languageId": "plaintext"
    }
   },
   "outputs": [],
   "source": [
    "{\n",
    " \"cells\": [\n",
    "  {\n",
    "   \"cell_type\": \"code\",\n",
    "   \"execution_count\": null,\n",
    "   \"metadata\": {},\n",
    "   \"outputs\": [],\n",
    "   \"source\": [\n",
    "    \"import pandas as pd\\n\",\n",
    "    \"import snowflake.connector\\n\",\n",
    "    \"\\n\",\n",
    "    \"# Snowflake connection details\\n\",\n",
    "    \"conn = snowflake.connector.connect(\\n\",\n",
    "    \"    user='your_username',\\n\",\n",
    "    \"    password='your_password',\\n\",\n",
    "    \"    account='your_account_name'\\n\",\n",
    "    \")\\n\",\n",
    "    \"\\n\",\n",
    "    \"query = \\\"SELECT * FROM MY_SCHEMA.MY_TABLE;\\\"\\n\",\n",
    "    \"df = pd.read_sql(query, conn)\\n\",\n",
    "    \"print(df)\\n\",\n",
    "    \"conn.close()\"\n",
    "   ]\n",
    "  }\n",
    " ],\n",
    " \"metadata\": {},\n",
    " \"nbformat\": 4,\n",
    " \"nbformat_minor\": 4\n",
    "}\n"
   ]
  }
 ],
 "metadata": {
  "language_info": {
   "name": "python"
  }
 },
 "nbformat": 4,
 "nbformat_minor": 2
}
